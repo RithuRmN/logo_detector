{
 "cells": [
  {
   "cell_type": "code",
   "execution_count": 1,
   "metadata": {},
   "outputs": [],
   "source": [
    "import pandas as pd \n",
    "import os\n",
    "import json\n",
    "import cv2\n",
    "from PIL import Image\n",
    "\n",
    "import shutil"
   ]
  },
  {
   "cell_type": "code",
   "execution_count": 2,
   "metadata": {},
   "outputs": [],
   "source": [
    "label_df=pd.DataFrame()"
   ]
  },
  {
   "cell_type": "code",
   "execution_count": 3,
   "metadata": {},
   "outputs": [],
   "source": [
    "LABELS={\"Allianz\":0}"
   ]
  },
  {
   "cell_type": "code",
   "execution_count": 4,
   "metadata": {},
   "outputs": [],
   "source": [
    "image_path=r\"C:\\Users\\Questuser\\Desktop\\Allianz\"\n",
    "\n",
    "annotation_path=r\"C:\\Users\\Questuser\\Desktop\\Allianz\\annotation\\allianz.csv\"\n",
    "\n",
    "output_path=r\"C:\\Users\\Questuser\\Desktop\\Allianz\\annotation\"\n"
   ]
  },
  {
   "cell_type": "code",
   "execution_count": 5,
   "metadata": {},
   "outputs": [],
   "source": [
    "\n",
    "df=pd.read_csv(annotation_path)\n",
    "df_unique=df[\"filename\"].unique()\n",
    "\n",
    "for image in df_unique:\n",
    "\n",
    "    df_entry=df[df[\"filename\"]==image]\n",
    "\n",
    "    for index ,row in df_entry.iterrows():\n",
    "\n",
    "        region=json.loads(row['region_shape_attributes'])\n",
    "\n",
    "        if region :\n",
    "            xmin = int(region['x'])\n",
    "            ymin = int(region['y'])\n",
    "            xmax = xmin+int(region['width'])\n",
    "            ymax = ymin+int(region['height'])\n",
    "            label=str(json.loads(row['region_attributes'])['label'])\n",
    "            label_df=label_df.append([[image,label,xmin,ymin,xmax,ymax]])\n",
    "                    \n",
    "label_df.to_csv(os.path.join(output_path,\"labels.csv\"),header=[\"filename\",\"label\",\"xmin\",\"ymin\",\"xmax\",\"ymax\"])"
   ]
  },
  {
   "cell_type": "code",
   "execution_count": 6,
   "metadata": {},
   "outputs": [
    {
     "name": "stdout",
     "output_type": "stream",
     "text": [
      "                                                    0        1    2    3  \\\n",
      "0   0-02-06-4aac70c596df75188c814b41ea1416bc1a3323...  Allianz  174  142   \n",
      "0                                               1.png  Allianz   38   64   \n",
      "0                     1a8b1b9027421.560c71f9366ae.jpg  Allianz  208  349   \n",
      "0                     1a8b1b9027421.560c71f9366ae.jpg  Allianz  498  345   \n",
      "0                    6a6e8f82373135.5d1b8b6b8707b.jpg  Allianz  421  147   \n",
      "..                                                ...      ...  ...  ...   \n",
      "0                    Screenshot 2022-01-19 104624.jpg  Allianz  686  399   \n",
      "0                    Screenshot 2022-01-19 104643.jpg  Allianz  163  149   \n",
      "0                    Screenshot 2022-01-19 104701.jpg  Allianz  111  136   \n",
      "0                            social_sharing_image.jpg  Allianz  114  197   \n",
      "0                          Untitled Design (13)_0.png  Allianz  189  193   \n",
      "\n",
      "       4    5  \n",
      "0    380  200  \n",
      "0    398  166  \n",
      "0    281  377  \n",
      "0    572  375  \n",
      "0    557  193  \n",
      "..   ...  ...  \n",
      "0    918  468  \n",
      "0   1048  419  \n",
      "0    444  241  \n",
      "0   1064  453  \n",
      "0    967  383  \n",
      "\n",
      "[82 rows x 6 columns]\n"
     ]
    }
   ],
   "source": [
    "print(label_df)"
   ]
  },
  {
   "cell_type": "code",
   "execution_count": null,
   "metadata": {},
   "outputs": [],
   "source": []
  }
 ],
 "metadata": {
  "kernelspec": {
   "display_name": "Python 3",
   "language": "python",
   "name": "python3"
  },
  "language_info": {
   "codemirror_mode": {
    "name": "ipython",
    "version": 3
   },
   "file_extension": ".py",
   "mimetype": "text/x-python",
   "name": "python",
   "nbconvert_exporter": "python",
   "pygments_lexer": "ipython3",
   "version": "3.8.5"
  }
 },
 "nbformat": 4,
 "nbformat_minor": 5
}
